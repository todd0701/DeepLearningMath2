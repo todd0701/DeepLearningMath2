{
 "cells": [
  {
   "attachments": {},
   "cell_type": "markdown",
   "metadata": {},
   "source": [
    "## Content\n",
    "\n",
    "[Final Project (view only)](./facial_expression_recognition.html)\n",
    "[Final Project (raw code)](https://github.com/todd0701/DeepLearningMath2/blob/main/notebooks/facial_expression_recognition.ipynb)\n",
    "### Deep learning model for facial expression recognition\n",
    "\n",
    "[Final Project2 (view only)](./CNN_MusicGenre_Classifier_Finalize.html)\n",
    "[Final Project2 (raw code)](https://github.com/todd0701/DeepLearningMath2/blob/main/notebooks/CNN_MusicGenre_Classifier_Finalize.ipynb)\n",
    "### Deep learning model for music genre classification "
   ]
  },
  {
   "cell_type": "markdown",
   "metadata": {},
   "source": []
  }
 ],
 "metadata": {
  "language_info": {
   "name": "python"
  },
  "orig_nbformat": 4
 },
 "nbformat": 4,
 "nbformat_minor": 2
}
